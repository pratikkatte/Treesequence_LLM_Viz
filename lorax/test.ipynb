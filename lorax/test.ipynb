{
 "cells": [
  {
   "cell_type": "code",
   "execution_count": 1,
   "metadata": {},
   "outputs": [],
   "source": [
    "import tskit\n",
    "ts = tskit.load(\"./data/sample.trees\")\n"
   ]
  },
  {
   "cell_type": "code",
   "execution_count": 6,
   "metadata": {},
   "outputs": [
    {
     "data": {
      "text/plain": [
       "'n10;'"
      ]
     },
     "execution_count": 6,
     "metadata": {},
     "output_type": "execute_result"
    }
   ],
   "source": []
  },
  {
   "cell_type": "code",
   "execution_count": null,
   "metadata": {},
   "outputs": [],
   "source": [
    "def get_first_tree_newick(file_path: str) -> str:\n",
    "    # Load the tree sequence from the specified file path\n",
    "    ts = tskit.load(file_path)  # Get the first tree in the sequence\\n    \n",
    "    first_tree = ts.first() \n",
    "    # Return the Newick string of the first tree\n",
    "    return first_tree.newick()"
   ]
  },
  {
   "cell_type": "code",
   "execution_count": null,
   "metadata": {},
   "outputs": [],
   "source": [
    "import tskit\n",
    "\n",
    "def calculate_branch_length(file_path):\n",
    "    # Load the tree sequence from the given file path\n",
    "    ts = tskit.load(file_path)\n",
    "    # Get the first tree in the tree sequence\n",
    "    first_tree = ts.first()\n",
    "    # Calculate the total branch length of the first tree\n",
    "    total_branch_length = sum(first_tree.branch_length(u) for u in first_tree.nodes())\n",
    "    return f'The total branch length of the first tree is {total_branch_length}.' \n",
    "\n",
    "calculate_branch_length()\n"
   ]
  },
  {
   "cell_type": "code",
   "execution_count": 2,
   "metadata": {},
   "outputs": [],
   "source": [
    "ts = tskit.load('./data/sample.trees')"
   ]
  },
  {
   "cell_type": "code",
   "execution_count": null,
   "metadata": {},
   "outputs": [],
   "source": [
    "f = ts.first()\n",
    "for i in f.nodes():\n",
    "    print(i)\n",
    "    break"
   ]
  },
  {
   "cell_type": "code",
   "execution_count": 1,
   "metadata": {},
   "outputs": [],
   "source": [
    "from graph import generate\n",
    "from langchain_core.messages import HumanMessage"
   ]
  },
  {
   "cell_type": "code",
   "execution_count": 9,
   "metadata": {},
   "outputs": [],
   "source": [
    "user_input = \"how many sites does second tree has in the given treesequence\"\n",
    "user_input = [HumanMessage(content=user_input)]\n",
    "\n",
    "graph_state = {\"messages\": user_input, \"iterations\": 0, \"error\": \"\", \"input_files\": \"./data/sample.trees\", \"next\": None, \"generation\": None, \"result\": None}"
   ]
  },
  {
   "cell_type": "code",
   "execution_count": null,
   "metadata": {},
   "outputs": [],
   "source": [
    "user_input"
   ]
  },
  {
   "cell_type": "code",
   "execution_count": null,
   "metadata": {},
   "outputs": [],
   "source": [
    "output, context = generate(graph_state)"
   ]
  },
  {
   "cell_type": "code",
   "execution_count": null,
   "metadata": {},
   "outputs": [],
   "source": [
    "print(context[0])"
   ]
  },
  {
   "cell_type": "code",
   "execution_count": 1,
   "metadata": {},
   "outputs": [],
   "source": [
    "from faiss_vector import repo_to_text"
   ]
  },
  {
   "cell_type": "code",
   "execution_count": null,
   "metadata": {},
   "outputs": [],
   "source": [
    "repo_to_text(\"../../tskit/\", 'data-new.txt')"
   ]
  },
  {
   "cell_type": "code",
   "execution_count": null,
   "metadata": {},
   "outputs": [],
   "source": [
    "print(context[1])"
   ]
  },
  {
   "cell_type": "code",
   "execution_count": null,
   "metadata": {},
   "outputs": [],
   "source": []
  }
 ],
 "metadata": {
  "kernelspec": {
   "display_name": "dspy",
   "language": "python",
   "name": "python3"
  },
  "language_info": {
   "codemirror_mode": {
    "name": "ipython",
    "version": 3
   },
   "file_extension": ".py",
   "mimetype": "text/x-python",
   "name": "python",
   "nbconvert_exporter": "python",
   "pygments_lexer": "ipython3",
   "version": "3.11.10"
  }
 },
 "nbformat": 4,
 "nbformat_minor": 2
}
